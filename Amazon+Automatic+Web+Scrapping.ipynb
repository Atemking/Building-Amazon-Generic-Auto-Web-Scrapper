{
 "cells": [
  {
   "cell_type": "code",
   "execution_count": 1,
   "metadata": {
    "collapsed": false
   },
   "outputs": [
    {
     "name": "stdout",
     "output_type": "stream",
     "text": [
      "Collecting selenium\n",
      "  Downloading https://files.pythonhosted.org/packages/80/d6/4294f0b4bce4de0abf13e17190289f9d0613b0a44e5dd6a7f5ca98459853/selenium-3.141.0-py2.py3-none-any.whl (904kB)\n",
      "\u001b[K    100% |████████████████████████████████| 911kB 6.0kB/s ta 0:00:019\n",
      "\u001b[?25hRequirement already satisfied: urllib3 in ./Desktop/Ana/anaconda/lib/python3.6/site-packages (from selenium)\n",
      "Installing collected packages: selenium\n",
      "Successfully installed selenium-3.141.0\n",
      "\u001b[33mYou are using pip version 9.0.1, however version 23.1.2 is available.\n",
      "You should consider upgrading via the 'pip install --upgrade pip' command.\u001b[0m\n"
     ]
    }
   ],
   "source": [
    "!pip install selenium"
   ]
  },
  {
   "cell_type": "code",
   "execution_count": 2,
   "metadata": {
    "collapsed": false
   },
   "outputs": [
    {
     "name": "stdout",
     "output_type": "stream",
     "text": [
      "Requirement already satisfied: bs4 in ./Desktop/Ana/anaconda/lib/python3.6/site-packages\n",
      "Requirement already satisfied: beautifulsoup4 in ./Desktop/Ana/anaconda/lib/python3.6/site-packages (from bs4)\n",
      "\u001b[33mYou are using pip version 9.0.1, however version 23.1.2 is available.\n",
      "You should consider upgrading via the 'pip install --upgrade pip' command.\u001b[0m\n"
     ]
    }
   ],
   "source": [
    "!pip install bs4"
   ]
  },
  {
   "cell_type": "code",
   "execution_count": 3,
   "metadata": {
    "collapsed": false
   },
   "outputs": [
    {
     "name": "stdout",
     "output_type": "stream",
     "text": [
      "Collecting chromedriver_binary==98.0.4758.80\n",
      "  Downloading https://files.pythonhosted.org/packages/81/b1/833de328cb5f05e986d00a093c593c33099d4962dd62f0315a6ac358978f/chromedriver-binary-98.0.4758.80.0.tar.gz\n",
      "Building wheels for collected packages: chromedriver-binary\n",
      "  Running setup.py bdist_wheel for chromedriver-binary ... \u001b[?25l-\b \b\\\b \b|\b \b/\b \b-\b \b\\\b \b|\b \bdone\n",
      "\u001b[?25h  Stored in directory: /Users/kingsleya.n/Library/Caches/pip/wheels/3c/4e/65/83f9eac7916881e46f12b633a85d3b55f96500c1fc7ec210c9\n",
      "Successfully built chromedriver-binary\n",
      "Installing collected packages: chromedriver-binary\n",
      "Successfully installed chromedriver-binary-98.0.4758.80.0\n",
      "\u001b[33mYou are using pip version 9.0.1, however version 23.1.2 is available.\n",
      "You should consider upgrading via the 'pip install --upgrade pip' command.\u001b[0m\n"
     ]
    }
   ],
   "source": [
    "!pip install chromedriver_binary==98.0.4758.80"
   ]
  },
  {
   "cell_type": "code",
   "execution_count": 5,
   "metadata": {
    "collapsed": false
   },
   "outputs": [],
   "source": [
    "from selenium import webdriver\n",
    "import chromedriver_binary"
   ]
  },
  {
   "cell_type": "code",
   "execution_count": 7,
   "metadata": {
    "collapsed": false
   },
   "outputs": [],
   "source": [
    "# creating drivers from chrome\n",
    "#for chrome\n",
    "\n",
    "driver = webdriver.Chrome()\n",
    "\n",
    "# for firefox\n",
    "\n",
    "#driver = webdriver.firefox()\n",
    "\n",
    "# for ms edge\n",
    "\n",
    "#options = EdgeOptions()\n",
    "#options.use_chromium = True\n",
    "#driver = Edge(options=options)"
   ]
  },
  {
   "cell_type": "code",
   "execution_count": 9,
   "metadata": {
    "collapsed": false
   },
   "outputs": [],
   "source": [
    "url = 'https://www.amazon.com/'\n",
    "\n",
    "driver.get(url)"
   ]
  },
  {
   "cell_type": "code",
   "execution_count": 53,
   "metadata": {
    "collapsed": true
   },
   "outputs": [],
   "source": [
    "def my_url(keyword):\n",
    "    temp = 'https://www.amazon.com/s?k={}&crid=5XJ3MJCYBXZG&sprefix=baby+w%2Caps%2C1283&ref=nb_sb_noss_2'\n",
    "    keyword = keyword.replace(' ','+')\n",
    "    return temp.format(keyword)"
   ]
  },
  {
   "cell_type": "code",
   "execution_count": 54,
   "metadata": {
    "collapsed": false
   },
   "outputs": [],
   "source": [
    "url = my_url('laptop charger')"
   ]
  },
  {
   "cell_type": "code",
   "execution_count": 55,
   "metadata": {
    "collapsed": false
   },
   "outputs": [
    {
     "data": {
      "text/plain": [
       "'https://www.amazon.com/s?k=laptop+charger&crid=5XJ3MJCYBXZG&sprefix=baby+w%2Caps%2C1283&ref=nb_sb_noss_2'"
      ]
     },
     "execution_count": 55,
     "metadata": {},
     "output_type": "execute_result"
    }
   ],
   "source": [
    "url"
   ]
  },
  {
   "cell_type": "markdown",
   "metadata": {},
   "source": []
  },
  {
   "cell_type": "code",
   "execution_count": 28,
   "metadata": {
    "collapsed": true
   },
   "outputs": [],
   "source": [
    "# CREATING A GENERIC WEB SCRABBER"
   ]
  },
  {
   "cell_type": "code",
   "execution_count": 48,
   "metadata": {
    "collapsed": false
   },
   "outputs": [],
   "source": [
    "from selenium import webdriver\n",
    "import chromedriver_binary\n",
    "import csv\n",
    "def my_url(keyword):\n",
    "    temp = 'https://www.amazon.com/s?k={}&crid=5XJ3MJCYBXZG&sprefix=baby+w%2Caps%2C1283&ref=nb_sb_noss_2'\n",
    "    keyword = keyword.replace(' ','+')\n",
    "    url = temp.format(keyword)\n",
    "    \n",
    "    url += '&page{}'\n",
    "    \n",
    "    return url\n",
    "\n",
    "\n",
    "def extract_records(obj):\n",
    "    atag = obj.h2.a\n",
    "    des = obj.h2.a.text.strip()\n",
    "    url = 'https://www.amazon.com/'+atag.get('href')\n",
    "    \n",
    "    \n",
    "    try:\n",
    "        parent = obj.find('span','a-price')\n",
    "        price = parent.find('span','a-offscreen').text\n",
    "    except AttributeError:\n",
    "        return\n",
    "    try:\n",
    "        rate = obj.find('span','a-icon-alt').text\n",
    "        count_review = obj.find('span',{'class':'a-size-base','dir':'auto'}).text\n",
    "        \n",
    "    except AttributeError:\n",
    "        rate = ' '\n",
    "        count_review = ' '\n",
    "        \n",
    "    image = obj.find('img',{'class':'s-image'}).get('src')\n",
    "    \n",
    "    result = (des,price,rate,count_review,url,image)\n",
    "    \n",
    "    return result\n",
    "\n",
    "\n",
    "def main(keyword):\n",
    "    driver = webdriver.Chrome()\n",
    "    records = []\n",
    "    url = my_url(keyword)\n",
    "    \n",
    "    for page in range(1,11):\n",
    "        driver.get(url.format(page))\n",
    "        from bs4 import BeautifulSoup\n",
    "        soup = BeautifulSoup(driver.page_source,'html.parser')\n",
    "        soup_results = soup.find_all('div',{'data-component-type':'s-search-result'})\n",
    "        \n",
    "        \n",
    "    for items in soup_results:\n",
    "        record = extract_records(items)\n",
    "        \n",
    "        if record:\n",
    "            records.append(record)\n",
    "        \n",
    "    with open('result.csv','w', newline = '' , encoding='UTF-8') as f:\n",
    "        writer = csv.writer(f)\n",
    "        writer.writerow(['Describtion','price','rate','review count','url','image'])\n",
    "        writer.writerows(records)\n",
    "    \n",
    "    \n",
    "        \n",
    "        \n",
    "    \n",
    "    \n",
    "        \n",
    "\n",
    "    \n",
    "        \n",
    "        \n",
    "        \n",
    "    \n",
    "    \n"
   ]
  },
  {
   "cell_type": "code",
   "execution_count": 56,
   "metadata": {
    "collapsed": false
   },
   "outputs": [],
   "source": [
    "main('laptop bag')"
   ]
  },
  {
   "cell_type": "code",
   "execution_count": 34,
   "metadata": {
    "collapsed": false
   },
   "outputs": [
    {
     "name": "stdout",
     "output_type": "stream",
     "text": [
      "/Users/kingsleya.n\r\n"
     ]
    }
   ],
   "source": [
    "!pwd"
   ]
  },
  {
   "cell_type": "code",
   "execution_count": 58,
   "metadata": {
    "collapsed": false
   },
   "outputs": [],
   "source": [
    "import pandas as pd "
   ]
  },
  {
   "cell_type": "code",
   "execution_count": 59,
   "metadata": {
    "collapsed": true
   },
   "outputs": [],
   "source": [
    "df = pd.read_csv('result.csv')"
   ]
  },
  {
   "cell_type": "code",
   "execution_count": 60,
   "metadata": {
    "collapsed": false
   },
   "outputs": [
    {
     "data": {
      "text/html": [
       "<div>\n",
       "<table border=\"1\" class=\"dataframe\">\n",
       "  <thead>\n",
       "    <tr style=\"text-align: right;\">\n",
       "      <th></th>\n",
       "      <th>Describtion</th>\n",
       "      <th>price</th>\n",
       "      <th>rate</th>\n",
       "      <th>review count</th>\n",
       "      <th>url</th>\n",
       "      <th>image</th>\n",
       "    </tr>\n",
       "  </thead>\n",
       "  <tbody>\n",
       "    <tr>\n",
       "      <th>0</th>\n",
       "      <td>Targus Laptop Bag Classic Slim Briefcase Messe...</td>\n",
       "      <td>$22.00</td>\n",
       "      <td></td>\n",
       "      <td></td>\n",
       "      <td>https://www.amazon.com//sspa/click?ie=UTF8&amp;spc...</td>\n",
       "      <td>https://m.media-amazon.com/images/I/91snb7T4oe...</td>\n",
       "    </tr>\n",
       "    <tr>\n",
       "      <th>1</th>\n",
       "      <td>Pelican Adventurer - Laptop Bag/Sleeve 16 Inch...</td>\n",
       "      <td>$39.99</td>\n",
       "      <td></td>\n",
       "      <td></td>\n",
       "      <td>https://www.amazon.com//sspa/click?ie=UTF8&amp;spc...</td>\n",
       "      <td>https://m.media-amazon.com/images/I/71jpd5P2nH...</td>\n",
       "    </tr>\n",
       "    <tr>\n",
       "      <th>2</th>\n",
       "      <td>Lenovo Laptop Shoulder Bag T210, 15.6-Inch Lap...</td>\n",
       "      <td>$15.17</td>\n",
       "      <td></td>\n",
       "      <td></td>\n",
       "      <td>https://www.amazon.com//Lenovo-Carrying-15-6-I...</td>\n",
       "      <td>https://m.media-amazon.com/images/I/71hrx6vNjP...</td>\n",
       "    </tr>\n",
       "    <tr>\n",
       "      <th>3</th>\n",
       "      <td>Amazon Basics 15.6-Inch Laptop Computer and Ta...</td>\n",
       "      <td>$16.54</td>\n",
       "      <td></td>\n",
       "      <td></td>\n",
       "      <td>https://www.amazon.com//AmazonBasics-15-6-Inch...</td>\n",
       "      <td>https://m.media-amazon.com/images/I/91i8aaaNcq...</td>\n",
       "    </tr>\n",
       "    <tr>\n",
       "      <th>4</th>\n",
       "      <td>Targus Laptop Bag Classic Slim Briefcase Messe...</td>\n",
       "      <td>$22.00</td>\n",
       "      <td></td>\n",
       "      <td></td>\n",
       "      <td>https://www.amazon.com//Targus-Laptop-Bag-Brie...</td>\n",
       "      <td>https://m.media-amazon.com/images/I/91snb7T4oe...</td>\n",
       "    </tr>\n",
       "  </tbody>\n",
       "</table>\n",
       "</div>"
      ],
      "text/plain": [
       "                                         Describtion   price rate  \\\n",
       "0  Targus Laptop Bag Classic Slim Briefcase Messe...  $22.00        \n",
       "1  Pelican Adventurer - Laptop Bag/Sleeve 16 Inch...  $39.99        \n",
       "2  Lenovo Laptop Shoulder Bag T210, 15.6-Inch Lap...  $15.17        \n",
       "3  Amazon Basics 15.6-Inch Laptop Computer and Ta...  $16.54        \n",
       "4  Targus Laptop Bag Classic Slim Briefcase Messe...  $22.00        \n",
       "\n",
       "  review count                                                url  \\\n",
       "0               https://www.amazon.com//sspa/click?ie=UTF8&spc...   \n",
       "1               https://www.amazon.com//sspa/click?ie=UTF8&spc...   \n",
       "2               https://www.amazon.com//Lenovo-Carrying-15-6-I...   \n",
       "3               https://www.amazon.com//AmazonBasics-15-6-Inch...   \n",
       "4               https://www.amazon.com//Targus-Laptop-Bag-Brie...   \n",
       "\n",
       "                                               image  \n",
       "0  https://m.media-amazon.com/images/I/91snb7T4oe...  \n",
       "1  https://m.media-amazon.com/images/I/71jpd5P2nH...  \n",
       "2  https://m.media-amazon.com/images/I/71hrx6vNjP...  \n",
       "3  https://m.media-amazon.com/images/I/91i8aaaNcq...  \n",
       "4  https://m.media-amazon.com/images/I/91snb7T4oe...  "
      ]
     },
     "execution_count": 60,
     "metadata": {},
     "output_type": "execute_result"
    }
   ],
   "source": [
    "df.head()"
   ]
  },
  {
   "cell_type": "code",
   "execution_count": 61,
   "metadata": {
    "collapsed": false
   },
   "outputs": [
    {
     "name": "stdout",
     "output_type": "stream",
     "text": [
      "<class 'pandas.core.frame.DataFrame'>\n",
      "RangeIndex: 22 entries, 0 to 21\n",
      "Data columns (total 6 columns):\n",
      "Describtion     22 non-null object\n",
      "price           22 non-null object\n",
      "rate            22 non-null object\n",
      "review count    22 non-null object\n",
      "url             22 non-null object\n",
      "image           22 non-null object\n",
      "dtypes: object(6)\n",
      "memory usage: 1.1+ KB\n"
     ]
    }
   ],
   "source": [
    "df.info()"
   ]
  },
  {
   "cell_type": "code",
   "execution_count": 63,
   "metadata": {
    "collapsed": false
   },
   "outputs": [
    {
     "data": {
      "text/plain": [
       "Describtion     object\n",
       "price           object\n",
       "rate            object\n",
       "review count    object\n",
       "url             object\n",
       "image           object\n",
       "dtype: object"
      ]
     },
     "execution_count": 63,
     "metadata": {},
     "output_type": "execute_result"
    }
   ],
   "source": [
    "df.dtypes"
   ]
  },
  {
   "cell_type": "code",
   "execution_count": 65,
   "metadata": {
    "collapsed": false
   },
   "outputs": [],
   "source": [
    "df['price'] = df['price'].str.replace('$','')"
   ]
  },
  {
   "cell_type": "code",
   "execution_count": 66,
   "metadata": {
    "collapsed": false
   },
   "outputs": [
    {
     "data": {
      "text/html": [
       "<div>\n",
       "<table border=\"1\" class=\"dataframe\">\n",
       "  <thead>\n",
       "    <tr style=\"text-align: right;\">\n",
       "      <th></th>\n",
       "      <th>Describtion</th>\n",
       "      <th>price</th>\n",
       "      <th>rate</th>\n",
       "      <th>review count</th>\n",
       "      <th>url</th>\n",
       "      <th>image</th>\n",
       "    </tr>\n",
       "  </thead>\n",
       "  <tbody>\n",
       "    <tr>\n",
       "      <th>0</th>\n",
       "      <td>Targus Laptop Bag Classic Slim Briefcase Messe...</td>\n",
       "      <td>22.00</td>\n",
       "      <td></td>\n",
       "      <td></td>\n",
       "      <td>https://www.amazon.com//sspa/click?ie=UTF8&amp;spc...</td>\n",
       "      <td>https://m.media-amazon.com/images/I/91snb7T4oe...</td>\n",
       "    </tr>\n",
       "    <tr>\n",
       "      <th>1</th>\n",
       "      <td>Pelican Adventurer - Laptop Bag/Sleeve 16 Inch...</td>\n",
       "      <td>39.99</td>\n",
       "      <td></td>\n",
       "      <td></td>\n",
       "      <td>https://www.amazon.com//sspa/click?ie=UTF8&amp;spc...</td>\n",
       "      <td>https://m.media-amazon.com/images/I/71jpd5P2nH...</td>\n",
       "    </tr>\n",
       "    <tr>\n",
       "      <th>2</th>\n",
       "      <td>Lenovo Laptop Shoulder Bag T210, 15.6-Inch Lap...</td>\n",
       "      <td>15.17</td>\n",
       "      <td></td>\n",
       "      <td></td>\n",
       "      <td>https://www.amazon.com//Lenovo-Carrying-15-6-I...</td>\n",
       "      <td>https://m.media-amazon.com/images/I/71hrx6vNjP...</td>\n",
       "    </tr>\n",
       "    <tr>\n",
       "      <th>3</th>\n",
       "      <td>Amazon Basics 15.6-Inch Laptop Computer and Ta...</td>\n",
       "      <td>16.54</td>\n",
       "      <td></td>\n",
       "      <td></td>\n",
       "      <td>https://www.amazon.com//AmazonBasics-15-6-Inch...</td>\n",
       "      <td>https://m.media-amazon.com/images/I/91i8aaaNcq...</td>\n",
       "    </tr>\n",
       "    <tr>\n",
       "      <th>4</th>\n",
       "      <td>Targus Laptop Bag Classic Slim Briefcase Messe...</td>\n",
       "      <td>22.00</td>\n",
       "      <td></td>\n",
       "      <td></td>\n",
       "      <td>https://www.amazon.com//Targus-Laptop-Bag-Brie...</td>\n",
       "      <td>https://m.media-amazon.com/images/I/91snb7T4oe...</td>\n",
       "    </tr>\n",
       "  </tbody>\n",
       "</table>\n",
       "</div>"
      ],
      "text/plain": [
       "                                         Describtion  price rate review count  \\\n",
       "0  Targus Laptop Bag Classic Slim Briefcase Messe...  22.00                     \n",
       "1  Pelican Adventurer - Laptop Bag/Sleeve 16 Inch...  39.99                     \n",
       "2  Lenovo Laptop Shoulder Bag T210, 15.6-Inch Lap...  15.17                     \n",
       "3  Amazon Basics 15.6-Inch Laptop Computer and Ta...  16.54                     \n",
       "4  Targus Laptop Bag Classic Slim Briefcase Messe...  22.00                     \n",
       "\n",
       "                                                 url  \\\n",
       "0  https://www.amazon.com//sspa/click?ie=UTF8&spc...   \n",
       "1  https://www.amazon.com//sspa/click?ie=UTF8&spc...   \n",
       "2  https://www.amazon.com//Lenovo-Carrying-15-6-I...   \n",
       "3  https://www.amazon.com//AmazonBasics-15-6-Inch...   \n",
       "4  https://www.amazon.com//Targus-Laptop-Bag-Brie...   \n",
       "\n",
       "                                               image  \n",
       "0  https://m.media-amazon.com/images/I/91snb7T4oe...  \n",
       "1  https://m.media-amazon.com/images/I/71jpd5P2nH...  \n",
       "2  https://m.media-amazon.com/images/I/71hrx6vNjP...  \n",
       "3  https://m.media-amazon.com/images/I/91i8aaaNcq...  \n",
       "4  https://m.media-amazon.com/images/I/91snb7T4oe...  "
      ]
     },
     "execution_count": 66,
     "metadata": {},
     "output_type": "execute_result"
    }
   ],
   "source": [
    "df.head()"
   ]
  },
  {
   "cell_type": "code",
   "execution_count": 67,
   "metadata": {
    "collapsed": true
   },
   "outputs": [],
   "source": [
    "df['price'] = df['price'].astype(float)"
   ]
  },
  {
   "cell_type": "code",
   "execution_count": 70,
   "metadata": {
    "collapsed": false
   },
   "outputs": [
    {
     "data": {
      "text/plain": [
       "Describtion      object\n",
       "price           float64\n",
       "rate             object\n",
       "review count     object\n",
       "url              object\n",
       "image            object\n",
       "dtype: object"
      ]
     },
     "execution_count": 70,
     "metadata": {},
     "output_type": "execute_result"
    }
   ],
   "source": [
    "df.dtypes"
   ]
  },
  {
   "cell_type": "code",
   "execution_count": 71,
   "metadata": {
    "collapsed": false
   },
   "outputs": [
    {
     "data": {
      "text/html": [
       "<div>\n",
       "<table border=\"1\" class=\"dataframe\">\n",
       "  <thead>\n",
       "    <tr style=\"text-align: right;\">\n",
       "      <th></th>\n",
       "      <th>Describtion</th>\n",
       "      <th>price</th>\n",
       "      <th>rate</th>\n",
       "      <th>review count</th>\n",
       "      <th>url</th>\n",
       "      <th>image</th>\n",
       "    </tr>\n",
       "  </thead>\n",
       "  <tbody>\n",
       "    <tr>\n",
       "      <th>11</th>\n",
       "      <td>Cenzo Commuter Laptop Briefcase Messenger Bag ...</td>\n",
       "      <td>249.00</td>\n",
       "      <td></td>\n",
       "      <td></td>\n",
       "      <td>https://www.amazon.com//sspa/click?ie=UTF8&amp;spc...</td>\n",
       "      <td>https://m.media-amazon.com/images/I/81HGDxAGNr...</td>\n",
       "    </tr>\n",
       "    <tr>\n",
       "      <th>21</th>\n",
       "      <td>Mobile Edge Professional Rolling Laptop Case, ...</td>\n",
       "      <td>119.75</td>\n",
       "      <td></td>\n",
       "      <td></td>\n",
       "      <td>https://www.amazon.com//sspa/click?ie=UTF8&amp;spc...</td>\n",
       "      <td>https://m.media-amazon.com/images/I/81DXjsZTf9...</td>\n",
       "    </tr>\n",
       "    <tr>\n",
       "      <th>19</th>\n",
       "      <td>Kenneth Cole Reaction Chelsea Quilted Chevron ...</td>\n",
       "      <td>71.58</td>\n",
       "      <td></td>\n",
       "      <td></td>\n",
       "      <td>https://www.amazon.com//Kenneth-Cole-Reaction-...</td>\n",
       "      <td>https://m.media-amazon.com/images/I/91AYuLzXTr...</td>\n",
       "    </tr>\n",
       "    <tr>\n",
       "      <th>9</th>\n",
       "      <td>Kenneth Cole Reaction Chelsea Quilted Chevron ...</td>\n",
       "      <td>71.07</td>\n",
       "      <td></td>\n",
       "      <td></td>\n",
       "      <td>https://www.amazon.com//Kenneth-Cole-Reaction-...</td>\n",
       "      <td>https://m.media-amazon.com/images/I/914tOfVJ8x...</td>\n",
       "    </tr>\n",
       "    <tr>\n",
       "      <th>17</th>\n",
       "      <td>JanSport Cool Backpack, with 15-inch Laptop Sl...</td>\n",
       "      <td>59.99</td>\n",
       "      <td></td>\n",
       "      <td></td>\n",
       "      <td>https://www.amazon.com//JanSport-Backpack-15-i...</td>\n",
       "      <td>https://m.media-amazon.com/images/I/51p+ThZeqg...</td>\n",
       "    </tr>\n",
       "    <tr>\n",
       "      <th>8</th>\n",
       "      <td>Solo Bryant Rolling Laptop Bag, Black</td>\n",
       "      <td>53.85</td>\n",
       "      <td></td>\n",
       "      <td></td>\n",
       "      <td>https://www.amazon.com//Solo-Bryant-Rolling-La...</td>\n",
       "      <td>https://m.media-amazon.com/images/I/614ci5F4-q...</td>\n",
       "    </tr>\n",
       "    <tr>\n",
       "      <th>7</th>\n",
       "      <td>Pelican Adventurer - Laptop Bag/Sleeve 16 Inch...</td>\n",
       "      <td>39.99</td>\n",
       "      <td></td>\n",
       "      <td></td>\n",
       "      <td>https://www.amazon.com//Pelican-Adventurer-Ela...</td>\n",
       "      <td>https://m.media-amazon.com/images/I/71jpd5P2nH...</td>\n",
       "    </tr>\n",
       "    <tr>\n",
       "      <th>1</th>\n",
       "      <td>Pelican Adventurer - Laptop Bag/Sleeve 16 Inch...</td>\n",
       "      <td>39.99</td>\n",
       "      <td></td>\n",
       "      <td></td>\n",
       "      <td>https://www.amazon.com//sspa/click?ie=UTF8&amp;spc...</td>\n",
       "      <td>https://m.media-amazon.com/images/I/71jpd5P2nH...</td>\n",
       "    </tr>\n",
       "    <tr>\n",
       "      <th>16</th>\n",
       "      <td>Targus Classic Commuter Laptop Bag for 15.6-in...</td>\n",
       "      <td>39.99</td>\n",
       "      <td></td>\n",
       "      <td></td>\n",
       "      <td>https://www.amazon.com//sspa/click?ie=UTF8&amp;spc...</td>\n",
       "      <td>https://m.media-amazon.com/images/I/91ZyLArICM...</td>\n",
       "    </tr>\n",
       "    <tr>\n",
       "      <th>6</th>\n",
       "      <td>Targus CityLite Laptop Briefcase Shoulder Mess...</td>\n",
       "      <td>33.51</td>\n",
       "      <td></td>\n",
       "      <td></td>\n",
       "      <td>https://www.amazon.com//sspa/click?ie=UTF8&amp;spc...</td>\n",
       "      <td>https://m.media-amazon.com/images/I/81KjmTGxiT...</td>\n",
       "    </tr>\n",
       "    <tr>\n",
       "      <th>10</th>\n",
       "      <td>Targus CityLite Laptop Briefcase Shoulder Mess...</td>\n",
       "      <td>33.51</td>\n",
       "      <td></td>\n",
       "      <td></td>\n",
       "      <td>https://www.amazon.com//Targus-CityLite-Laptop...</td>\n",
       "      <td>https://m.media-amazon.com/images/I/81KjmTGxiT...</td>\n",
       "    </tr>\n",
       "    <tr>\n",
       "      <th>18</th>\n",
       "      <td>Case Logic 17.3-Inch Laptop Bag (VNCI-217),Black</td>\n",
       "      <td>29.99</td>\n",
       "      <td></td>\n",
       "      <td></td>\n",
       "      <td>https://www.amazon.com//Case-Logic-17-3-Inch-L...</td>\n",
       "      <td>https://m.media-amazon.com/images/I/81V1hGxrrc...</td>\n",
       "    </tr>\n",
       "    <tr>\n",
       "      <th>0</th>\n",
       "      <td>Targus Laptop Bag Classic Slim Briefcase Messe...</td>\n",
       "      <td>22.00</td>\n",
       "      <td></td>\n",
       "      <td></td>\n",
       "      <td>https://www.amazon.com//sspa/click?ie=UTF8&amp;spc...</td>\n",
       "      <td>https://m.media-amazon.com/images/I/91snb7T4oe...</td>\n",
       "    </tr>\n",
       "    <tr>\n",
       "      <th>4</th>\n",
       "      <td>Targus Laptop Bag Classic Slim Briefcase Messe...</td>\n",
       "      <td>22.00</td>\n",
       "      <td></td>\n",
       "      <td></td>\n",
       "      <td>https://www.amazon.com//Targus-Laptop-Bag-Brie...</td>\n",
       "      <td>https://m.media-amazon.com/images/I/91snb7T4oe...</td>\n",
       "    </tr>\n",
       "    <tr>\n",
       "      <th>13</th>\n",
       "      <td>Lenovo Laptop Shoulder Bag T210, Fits up to 17...</td>\n",
       "      <td>19.99</td>\n",
       "      <td></td>\n",
       "      <td></td>\n",
       "      <td>https://www.amazon.com//Lenovo-Shoulder-17-inc...</td>\n",
       "      <td>https://m.media-amazon.com/images/I/51AtZGbeuw...</td>\n",
       "    </tr>\n",
       "    <tr>\n",
       "      <th>15</th>\n",
       "      <td>Targus Vertical Slipcase Messenger Bag Travel ...</td>\n",
       "      <td>16.99</td>\n",
       "      <td></td>\n",
       "      <td></td>\n",
       "      <td>https://www.amazon.com//Targus-Vertical-Slipca...</td>\n",
       "      <td>https://m.media-amazon.com/images/I/71u+28zEkp...</td>\n",
       "    </tr>\n",
       "    <tr>\n",
       "      <th>3</th>\n",
       "      <td>Amazon Basics 15.6-Inch Laptop Computer and Ta...</td>\n",
       "      <td>16.54</td>\n",
       "      <td></td>\n",
       "      <td></td>\n",
       "      <td>https://www.amazon.com//AmazonBasics-15-6-Inch...</td>\n",
       "      <td>https://m.media-amazon.com/images/I/91i8aaaNcq...</td>\n",
       "    </tr>\n",
       "    <tr>\n",
       "      <th>12</th>\n",
       "      <td>Lenovo Laptop Backpack B210, 15.6-Inch Laptop/...</td>\n",
       "      <td>16.43</td>\n",
       "      <td></td>\n",
       "      <td></td>\n",
       "      <td>https://www.amazon.com//Lenovo-Backpack-15-6-I...</td>\n",
       "      <td>https://m.media-amazon.com/images/I/61MUbvslk2...</td>\n",
       "    </tr>\n",
       "    <tr>\n",
       "      <th>14</th>\n",
       "      <td>Lenovo Carrying Case T210, fits for 15.6-Inch ...</td>\n",
       "      <td>15.17</td>\n",
       "      <td></td>\n",
       "      <td></td>\n",
       "      <td>https://www.amazon.com//Lenovo-Carrying-15-6-I...</td>\n",
       "      <td>https://m.media-amazon.com/images/I/71HsqsVYlp...</td>\n",
       "    </tr>\n",
       "    <tr>\n",
       "      <th>5</th>\n",
       "      <td>Lenovo Laptop Carrying Case T210, fits for 15....</td>\n",
       "      <td>15.17</td>\n",
       "      <td></td>\n",
       "      <td></td>\n",
       "      <td>https://www.amazon.com//Lenovo-Carrying-15-6-I...</td>\n",
       "      <td>https://m.media-amazon.com/images/I/717BACPIdy...</td>\n",
       "    </tr>\n",
       "    <tr>\n",
       "      <th>2</th>\n",
       "      <td>Lenovo Laptop Shoulder Bag T210, 15.6-Inch Lap...</td>\n",
       "      <td>15.17</td>\n",
       "      <td></td>\n",
       "      <td></td>\n",
       "      <td>https://www.amazon.com//Lenovo-Carrying-15-6-I...</td>\n",
       "      <td>https://m.media-amazon.com/images/I/71hrx6vNjP...</td>\n",
       "    </tr>\n",
       "    <tr>\n",
       "      <th>20</th>\n",
       "      <td>Lenovo Laptop Shoulder Bag T210, Fits up to 12...</td>\n",
       "      <td>14.99</td>\n",
       "      <td></td>\n",
       "      <td></td>\n",
       "      <td>https://www.amazon.com//Lenovo-Shoulder-12-inc...</td>\n",
       "      <td>https://m.media-amazon.com/images/I/51lzy--zHC...</td>\n",
       "    </tr>\n",
       "  </tbody>\n",
       "</table>\n",
       "</div>"
      ],
      "text/plain": [
       "                                          Describtion   price rate  \\\n",
       "11  Cenzo Commuter Laptop Briefcase Messenger Bag ...  249.00        \n",
       "21  Mobile Edge Professional Rolling Laptop Case, ...  119.75        \n",
       "19  Kenneth Cole Reaction Chelsea Quilted Chevron ...   71.58        \n",
       "9   Kenneth Cole Reaction Chelsea Quilted Chevron ...   71.07        \n",
       "17  JanSport Cool Backpack, with 15-inch Laptop Sl...   59.99        \n",
       "8               Solo Bryant Rolling Laptop Bag, Black   53.85        \n",
       "7   Pelican Adventurer - Laptop Bag/Sleeve 16 Inch...   39.99        \n",
       "1   Pelican Adventurer - Laptop Bag/Sleeve 16 Inch...   39.99        \n",
       "16  Targus Classic Commuter Laptop Bag for 15.6-in...   39.99        \n",
       "6   Targus CityLite Laptop Briefcase Shoulder Mess...   33.51        \n",
       "10  Targus CityLite Laptop Briefcase Shoulder Mess...   33.51        \n",
       "18   Case Logic 17.3-Inch Laptop Bag (VNCI-217),Black   29.99        \n",
       "0   Targus Laptop Bag Classic Slim Briefcase Messe...   22.00        \n",
       "4   Targus Laptop Bag Classic Slim Briefcase Messe...   22.00        \n",
       "13  Lenovo Laptop Shoulder Bag T210, Fits up to 17...   19.99        \n",
       "15  Targus Vertical Slipcase Messenger Bag Travel ...   16.99        \n",
       "3   Amazon Basics 15.6-Inch Laptop Computer and Ta...   16.54        \n",
       "12  Lenovo Laptop Backpack B210, 15.6-Inch Laptop/...   16.43        \n",
       "14  Lenovo Carrying Case T210, fits for 15.6-Inch ...   15.17        \n",
       "5   Lenovo Laptop Carrying Case T210, fits for 15....   15.17        \n",
       "2   Lenovo Laptop Shoulder Bag T210, 15.6-Inch Lap...   15.17        \n",
       "20  Lenovo Laptop Shoulder Bag T210, Fits up to 12...   14.99        \n",
       "\n",
       "   review count                                                url  \\\n",
       "11               https://www.amazon.com//sspa/click?ie=UTF8&spc...   \n",
       "21               https://www.amazon.com//sspa/click?ie=UTF8&spc...   \n",
       "19               https://www.amazon.com//Kenneth-Cole-Reaction-...   \n",
       "9                https://www.amazon.com//Kenneth-Cole-Reaction-...   \n",
       "17               https://www.amazon.com//JanSport-Backpack-15-i...   \n",
       "8                https://www.amazon.com//Solo-Bryant-Rolling-La...   \n",
       "7                https://www.amazon.com//Pelican-Adventurer-Ela...   \n",
       "1                https://www.amazon.com//sspa/click?ie=UTF8&spc...   \n",
       "16               https://www.amazon.com//sspa/click?ie=UTF8&spc...   \n",
       "6                https://www.amazon.com//sspa/click?ie=UTF8&spc...   \n",
       "10               https://www.amazon.com//Targus-CityLite-Laptop...   \n",
       "18               https://www.amazon.com//Case-Logic-17-3-Inch-L...   \n",
       "0                https://www.amazon.com//sspa/click?ie=UTF8&spc...   \n",
       "4                https://www.amazon.com//Targus-Laptop-Bag-Brie...   \n",
       "13               https://www.amazon.com//Lenovo-Shoulder-17-inc...   \n",
       "15               https://www.amazon.com//Targus-Vertical-Slipca...   \n",
       "3                https://www.amazon.com//AmazonBasics-15-6-Inch...   \n",
       "12               https://www.amazon.com//Lenovo-Backpack-15-6-I...   \n",
       "14               https://www.amazon.com//Lenovo-Carrying-15-6-I...   \n",
       "5                https://www.amazon.com//Lenovo-Carrying-15-6-I...   \n",
       "2                https://www.amazon.com//Lenovo-Carrying-15-6-I...   \n",
       "20               https://www.amazon.com//Lenovo-Shoulder-12-inc...   \n",
       "\n",
       "                                                image  \n",
       "11  https://m.media-amazon.com/images/I/81HGDxAGNr...  \n",
       "21  https://m.media-amazon.com/images/I/81DXjsZTf9...  \n",
       "19  https://m.media-amazon.com/images/I/91AYuLzXTr...  \n",
       "9   https://m.media-amazon.com/images/I/914tOfVJ8x...  \n",
       "17  https://m.media-amazon.com/images/I/51p+ThZeqg...  \n",
       "8   https://m.media-amazon.com/images/I/614ci5F4-q...  \n",
       "7   https://m.media-amazon.com/images/I/71jpd5P2nH...  \n",
       "1   https://m.media-amazon.com/images/I/71jpd5P2nH...  \n",
       "16  https://m.media-amazon.com/images/I/91ZyLArICM...  \n",
       "6   https://m.media-amazon.com/images/I/81KjmTGxiT...  \n",
       "10  https://m.media-amazon.com/images/I/81KjmTGxiT...  \n",
       "18  https://m.media-amazon.com/images/I/81V1hGxrrc...  \n",
       "0   https://m.media-amazon.com/images/I/91snb7T4oe...  \n",
       "4   https://m.media-amazon.com/images/I/91snb7T4oe...  \n",
       "13  https://m.media-amazon.com/images/I/51AtZGbeuw...  \n",
       "15  https://m.media-amazon.com/images/I/71u+28zEkp...  \n",
       "3   https://m.media-amazon.com/images/I/91i8aaaNcq...  \n",
       "12  https://m.media-amazon.com/images/I/61MUbvslk2...  \n",
       "14  https://m.media-amazon.com/images/I/71HsqsVYlp...  \n",
       "5   https://m.media-amazon.com/images/I/717BACPIdy...  \n",
       "2   https://m.media-amazon.com/images/I/71hrx6vNjP...  \n",
       "20  https://m.media-amazon.com/images/I/51lzy--zHC...  "
      ]
     },
     "execution_count": 71,
     "metadata": {},
     "output_type": "execute_result"
    }
   ],
   "source": [
    "df.sort_values(by='price',ascending=False)"
   ]
  },
  {
   "cell_type": "code",
   "execution_count": null,
   "metadata": {
    "collapsed": true
   },
   "outputs": [],
   "source": []
  }
 ],
 "metadata": {
  "kernelspec": {
   "display_name": "Python 3",
   "language": "python",
   "name": "python3"
  },
  "language_info": {
   "codemirror_mode": {
    "name": "ipython",
    "version": 3
   },
   "file_extension": ".py",
   "mimetype": "text/x-python",
   "name": "python",
   "nbconvert_exporter": "python",
   "pygments_lexer": "ipython3",
   "version": "3.6.0"
  }
 },
 "nbformat": 4,
 "nbformat_minor": 2
}
